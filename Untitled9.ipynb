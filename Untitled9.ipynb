{
 "cells": [
  {
   "cell_type": "code",
   "execution_count": null,
   "id": "37797335-997c-495c-b025-6e899511b905",
   "metadata": {},
   "outputs": [
    {
     "name": "stdout",
     "output_type": "stream",
     "text": [
      "Welcome to Tic Tac Toe!\n",
      "  |   |  \n",
      "-----\n",
      "  |   |  \n",
      "-----\n",
      "  |   |  \n",
      "-----\n",
      "Player X's turn.\n"
     ]
    },
    {
     "name": "stdin",
     "output_type": "stream",
     "text": [
      "Enter row and column (0, 1, or 2 separated by space):  0\n"
     ]
    },
    {
     "name": "stdout",
     "output_type": "stream",
     "text": [
      "Invalid input. Please enter two numbers separated by space.\n",
      "Player X's turn.\n"
     ]
    },
    {
     "name": "stdin",
     "output_type": "stream",
     "text": [
      "Enter row and column (0, 1, or 2 separated by space):  0 1\n"
     ]
    },
    {
     "name": "stdout",
     "output_type": "stream",
     "text": [
      "  | X |  \n",
      "-----\n",
      "  |   |  \n",
      "-----\n",
      "  |   |  \n",
      "-----\n",
      "Player O's turn.\n"
     ]
    },
    {
     "name": "stdin",
     "output_type": "stream",
     "text": [
      "Enter row and column (0, 1, or 2 separated by space):  0 3\n"
     ]
    },
    {
     "name": "stdout",
     "output_type": "stream",
     "text": [
      "Invalid position. Try again.\n",
      "Player O's turn.\n"
     ]
    },
    {
     "name": "stdin",
     "output_type": "stream",
     "text": [
      "Enter row and column (0, 1, or 2 separated by space):  0 2\n"
     ]
    },
    {
     "name": "stdout",
     "output_type": "stream",
     "text": [
      "  | X | O\n",
      "-----\n",
      "  |   |  \n",
      "-----\n",
      "  |   |  \n",
      "-----\n",
      "Player X's turn.\n"
     ]
    }
   ],
   "source": [
    "def print_board(board):\n",
    "    \"\"\"Prints the Tic Tac Toe board.\"\"\"\n",
    "    for row in board:\n",
    "        print(\" | \".join(row))\n",
    "        print(\"-\" * 5)\n",
    "\n",
    "\n",
    "def check_winner(board):\n",
    "    \"\"\"Checks if there is a winner or a tie.\"\"\"\n",
    "    # Check rows and columns\n",
    "    for i in range(3):\n",
    "        if board[i][0] == board[i][1] == board[i][2] and board[i][0] != \" \":\n",
    "            return board[i][0]\n",
    "        if board[0][i] == board[1][i] == board[2][i] and board[0][i] != \" \":\n",
    "            return board[0][i]\n",
    "\n",
    "    # Check diagonals\n",
    "    if board[0][0] == board[1][1] == board[2][2] and board[0][0] != \" \":\n",
    "        return board[0][0]\n",
    "    if board[0][2] == board[1][1] == board[2][0] and board[0][2] != \" \":\n",
    "        return board[0][2]\n",
    "\n",
    "    # Check for a tie\n",
    "    if all(board[row][col] != \" \" for row in range(3) for col in range(3)):\n",
    "        return \"Tie\"\n",
    "\n",
    "    return None\n",
    "\n",
    "\n",
    "def tic_tac_toe():\n",
    "    \"\"\"Main function to play the Tic Tac Toe game.\"\"\"\n",
    "    # Initialize the board\n",
    "    board = [[\" \" for _ in range(3)] for _ in range(3)]\n",
    "    current_player = \"X\"\n",
    "\n",
    "    print(\"Welcome to Tic Tac Toe!\")\n",
    "    print_board(board)\n",
    "\n",
    "    while True:\n",
    "        print(f\"Player {current_player}'s turn.\")\n",
    "\n",
    "        # Input position\n",
    "        try:\n",
    "            row, col = map(int, input(\"Enter row and column (0, 1, or 2 separated by space): \").split())\n",
    "        except ValueError:\n",
    "            print(\"Invalid input. Please enter two numbers separated by space.\")\n",
    "            continue\n",
    "\n",
    "        # Check if the position is valid\n",
    "        if row not in range(3) or col not in range(3):\n",
    "            print(\"Invalid position. Try again.\")\n",
    "            continue\n",
    "        if board[row][col] != \" \":\n",
    "            print(\"Position already occupied. Try again.\")\n",
    "            continue\n",
    "\n",
    "        # Make the move\n",
    "        board[row][col] = current_player\n",
    "        print_board(board)\n",
    "\n",
    "        # Check for winner\n",
    "        winner = check_winner(board)\n",
    "        if winner:\n",
    "            if winner == \"Tie\":\n",
    "                print(\"It's a tie!\")\n",
    "            else:\n",
    "                print(f\"Player {winner} wins!\")\n",
    "            break\n",
    "\n",
    "        # Switch player\n",
    "        current_player = \"O\" if current_player == \"X\" else \"X\"\n",
    "\n",
    "\n",
    "# Run the game\n",
    "tic_tac_toe()\n"
   ]
  }
 ],
 "metadata": {
  "kernelspec": {
   "display_name": "Python 3 (ipykernel)",
   "language": "python",
   "name": "python3"
  },
  "language_info": {
   "codemirror_mode": {
    "name": "ipython",
    "version": 3
   },
   "file_extension": ".py",
   "mimetype": "text/x-python",
   "name": "python",
   "nbconvert_exporter": "python",
   "pygments_lexer": "ipython3",
   "version": "3.12.7"
  }
 },
 "nbformat": 4,
 "nbformat_minor": 5
}
